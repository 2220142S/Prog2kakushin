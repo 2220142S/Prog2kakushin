{
  "nbformat": 4,
  "nbformat_minor": 0,
  "metadata": {
    "colab": {
      "provenance": [],
      "authorship_tag": "ABX9TyNMJn6B4BU7B+MRraifJYAT",
      "include_colab_link": true
    },
    "kernelspec": {
      "name": "python3",
      "display_name": "Python 3"
    },
    "language_info": {
      "name": "python"
    }
  },
  "cells": [
    {
      "cell_type": "markdown",
      "metadata": {
        "id": "view-in-github",
        "colab_type": "text"
      },
      "source": [
        "<a href=\"https://colab.research.google.com/github/2220142S/Prog2kakushin/blob/main/Work3.ipynb\" target=\"_parent\"><img src=\"https://colab.research.google.com/assets/colab-badge.svg\" alt=\"Open In Colab\"/></a>"
      ]
    },
    {
      "cell_type": "code",
      "execution_count": null,
      "metadata": {
        "id": "uPvG4Q0R35Kd"
      },
      "outputs": [],
      "source": []
    },
    {
      "cell_type": "markdown",
      "source": [
        "2023年の年賀状を作る\n",
        "\n",
        "・年賀状はがきサイズ（10 cm * 14.8 cm）より100×148目安,足りなかったら×１０してもいいです\n",
        "\n",
        "・2023という数字はTurtleで作る\n",
        "\n",
        "・2023年の干支であるウサギをopencvで作る\n",
        "\n",
        "・「今年もよろしくお願いします」とどこかに入れる\n",
        "\n",
        "・その他縁起物の画像をクリッピングする\n",
        "\n",
        "・最後に画像として保存する"
      ],
      "metadata": {
        "id": "yCUjK1HC6QYw"
      }
    }
  ]
}