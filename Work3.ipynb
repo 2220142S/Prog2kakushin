{
  "nbformat": 4,
  "nbformat_minor": 0,
  "metadata": {
    "colab": {
      "provenance": [],
      "authorship_tag": "ABX9TyPj+9AdT8tKsKOAD9ti8igd",
      "include_colab_link": true
    },
    "kernelspec": {
      "name": "python3",
      "display_name": "Python 3"
    },
    "language_info": {
      "name": "python"
    }
  },
  "cells": [
    {
      "cell_type": "markdown",
      "metadata": {
        "id": "view-in-github",
        "colab_type": "text"
      },
      "source": [
        "<a href=\"https://colab.research.google.com/github/2220142S/Prog2kakushin/blob/main/Work3.ipynb\" target=\"_parent\"><img src=\"https://colab.research.google.com/assets/colab-badge.svg\" alt=\"Open In Colab\"/></a>"
      ]
    },
    {
      "cell_type": "markdown",
      "source": [
        "#2023年へのカウントダウンを作る\n",
        "\n",
        "・３・２・１・2023と表示する\n",
        "\n",
        "・2023という数字はTurtleで作る"
      ],
      "metadata": {
        "id": "yCUjK1HC6QYw"
      }
    },
    {
      "cell_type": "code",
      "source": [
        "# turtle をColab環境で利用できるようにするため，Colabファイルを開いたときに一度だけ実行する\n",
        "!pip3 install ColabTurtlePlus\n"
      ],
      "metadata": {
        "colab": {
          "base_uri": "https://localhost:8080/"
        },
        "id": "brXfj3kjUQg3",
        "outputId": "cadbc1cf-c04c-4a15-a7ea-50349d4e0fa5"
      },
      "execution_count": 2,
      "outputs": [
        {
          "output_type": "stream",
          "name": "stdout",
          "text": [
            "Looking in indexes: https://pypi.org/simple, https://us-python.pkg.dev/colab-wheels/public/simple/\n",
            "Collecting ColabTurtlePlus\n",
            "  Downloading ColabTurtlePlus-2.0.1-py3-none-any.whl (31 kB)\n",
            "Installing collected packages: ColabTurtlePlus\n",
            "Successfully installed ColabTurtlePlus-2.0.1\n"
          ]
        }
      ]
    },
    {
      "cell_type": "code",
      "source": [
        "def rabit(x,y): #うさぎを描く関数(描きたい位置)\n",
        "  turtle=Turtle()\n",
        "  turtle.speed(10)\n",
        "  turtle.penup()\n",
        "  turtle.goto(x,y) #描写したいｘとｙの位置に持っていく\n",
        "  turtle.pendown()\n",
        "  turtle.circle(20,480) #顔の輪郭\n",
        "  turtle.right(60) #うさぎのミミを描いていく\n",
        "  turtle.circle(150,20)\n",
        "  turtle.left(150)\n",
        "  turtle.circle(140,20)\n",
        "  turtle.penup()\n",
        "  turtle.goto(x,y) #うさぎのからだを描いていく\n",
        "  turtle.pendown()\n",
        "  turtle.left(0)\n",
        "  turtle.circle(100,30)\n",
        "  turtle.left(80)\n",
        "  turtle.forward(20)\n",
        "  turtle.left(80)\n",
        "  turtle.circle(100,30)\n",
        "  turtle.penup()\n",
        "  turtle.setpos(x+20,y+-25) #うさぎのしっぽを描いていく/描きたい位置に移動する\n",
        "  turtle.pendown()\n",
        "  turtle.left(80)\n",
        "  turtle.circle(5)\n",
        "  turtle.penup()\n",
        "  turtle.goto(x-20,y+20)#鼻を描きたい位置に移動する\n",
        "  turtle.pendown()\n",
        "  turtle.dot(5,'black')#鼻を描く\n",
        "  turtle.penup()\n",
        "  turtle.goto(x,y+20)#最後に目の位置に移動して矢印を目として扱う\n",
        "  turtle.pendown()\n"
      ],
      "metadata": {
        "id": "1vNjtP923vkP"
      },
      "execution_count": 193,
      "outputs": []
    },
    {
      "cell_type": "code",
      "source": [
        "def fire(turtle,x,y,r,g,b): #花火を描く関数 (描く亀の種類/形など,描く座標(x,y),描きたい色(r,g,b))\n",
        "  turtle1=turtle\n",
        "  turtle1.penup()\n",
        "  turtle1.goto(x,y) #花火を描きたい位置に移動する\n",
        "  turtle1.pendown()\n",
        "  for i in range(1,6): #5本様々な線を描いていく\n",
        "    turtle1.right(360/5)#角度を五等分して等間隔に線を描く\n",
        "    turtle1.forward(20)\n",
        "    turtle1.penup()\n",
        "    turtle1.color(i*40+r,i*40+g,i*40+b) #色を変える\n",
        "    turtle1.goto(x,y)\n",
        "    turtle1.pendown()"
      ],
      "metadata": {
        "id": "pTF6SyvHwLGA"
      },
      "execution_count": 194,
      "outputs": []
    },
    {
      "cell_type": "code",
      "source": [
        "from PIL import Image\n",
        "from ColabTurtlePlus.Turtle import *\n",
        "clearscreen()   # 描画エリアの初期化\n",
        "setup(700,300)  # カメを描画する領域の大きさを指定\n",
        "def two(turtle1): #数字の２を描く関数\n",
        "  turtle1.forward(50)\n",
        "  turtle1.right(90)\n",
        "  turtle1.forward(25)\n",
        "  turtle1.right(90)\n",
        "  turtle1.forward(50)\n",
        "  turtle1.left(90)\n",
        "  turtle1.forward(25)\n",
        "  turtle1.left(90)\n",
        "  turtle1.forward(50)\n",
        "\n",
        "turtle=Turtle()#最初のカウントダウンを作る亀\n",
        "turtle.speed(5)\n",
        "turtle.color(0,191,255)\n",
        "turtle.forward(50)#3を描く\n",
        "turtle.right(90)\n",
        "turtle.forward(25)\n",
        "turtle.right(90)\n",
        "a=turtle.xcor()\n",
        "b=turtle.ycor()\n",
        "turtle.forward(50)\n",
        "turtle.penup()\n",
        "turtle.goto(a,b)\n",
        "turtle.pendown()\n",
        "turtle.left(90)\n",
        "turtle.forward(25)\n",
        "turtle.right(90)\n",
        "turtle.forward(50)\n",
        "\n",
        "turtle.penup()#最初の位置に亀を戻し,screenもリセットする\n",
        "turtle.home()\n",
        "turtle.pendown()\n",
        "turtle.reset()\n",
        "\n",
        "turtle.color(60,179,113)\n",
        "two(turtle)#2を描く\n",
        "\n",
        "turtle.penup()#全リセット\n",
        "turtle.home()\n",
        "turtle.pendown()\n",
        "turtle.reset()\n",
        "\n",
        "turtle.color(199,21,133)\n",
        "turtle.right(90)#１を描く\n",
        "turtle.forward(100)\n",
        "turtle.penup()\n",
        "turtle.home()\n",
        "turtle.pendown()\n",
        "turtle.reset()\n",
        "turtle.hideturtle()\n",
        "\n",
        "\n",
        "turtle1 = Turtle()# 2023を描く矢印のデータ属性を設定する\n",
        "turtle1.shape(\"classic\")\n",
        "turtle1.pensize(10)\n",
        "turtle1.speed(10) \n",
        "\n",
        "\n",
        "two(turtle1)#2を描く\n",
        "\n",
        "turtle1.penup()\n",
        "turtle1.goto(70,0)#続けて描くため次に書き始める場所を指定する\n",
        "turtle1.pendown()\n",
        "\n",
        "turtle1.forward(50)#0を描く\n",
        "turtle1.right(90)\n",
        "turtle1.forward(50)\n",
        "turtle1.right(90)\n",
        "turtle1.forward(50)\n",
        "turtle1.right(90)\n",
        "turtle1.forward(50)\n",
        "\n",
        "turtle1.penup()#続けて描くため次に書き始める場所を指定する\n",
        "turtle1.goto(140,0)\n",
        "turtle1.pendown()\n",
        "\n",
        "turtle1.right(90)#２を描く\n",
        "two(turtle1)\n",
        "\n",
        "turtle1.penup()##続けて描くため次に書き始める場所を指定する\n",
        "turtle1.goto(210,0)\n",
        "turtle1.pendown()\n",
        "\n",
        "turtle1.forward(50)#３を描く\n",
        "turtle1.right(90)\n",
        "turtle1.forward(25)\n",
        "turtle1.right(90)\n",
        "turtle1.forward(50)\n",
        "turtle1.penup()\n",
        "turtle1.goto(260,-25)\n",
        "turtle1.pendown()\n",
        "turtle1.left(90)\n",
        "turtle1.forward(25)\n",
        "turtle1.right(90)\n",
        "turtle1.forward(50)\n",
        "\n",
        "turtle1.hideturtle()#書き終わったので矢印を消す\n",
        "\n",
        "rabit(300,0)#ウサギの関数を呼び出しウサギを描く\n",
        "\n",
        "turtle2=Turtle()#花火を描く\n",
        "turtle2.speed=(10)\n",
        "fire(turtle2,-30,40,0,50,0)\n",
        "fire(turtle2,-50,-40,50,0,0)\n",
        "fire(turtle2,50,30,0,0,50)\n",
        "fire(turtle2,200,40,0,50,50)\n",
        "turtle2.hideturtle()#矢印を消す"
      ],
      "metadata": {
        "colab": {
          "base_uri": "https://localhost:8080/",
          "height": 322
        },
        "id": "_4pflrgqUg1y",
        "outputId": "744646af-37e4-4a21-e8c7-fdcf1ca8b3ed"
      },
      "execution_count": null,
      "outputs": [
        {
          "output_type": "display_data",
          "data": {
            "text/plain": [
              "<IPython.core.display.HTML object>"
            ],
            "text/html": [
              "\n",
              "      <svg width=\"700\" height=\"300\">  \n",
              "        <rect width=\"100%\" height=\"100%\" style=\"fill:white;stroke:;stroke-width:1\"/>\n",
              "        \n",
              "        \n",
              "        <line x1=\"350.0\" y1=\"150.0\" x2=\"400.0\" y2=\"150.0\" stroke-linecap=\"round\" style=\"stroke:black;stroke-width:10\" /><line x1=\"400.0\" y1=\"150.0\" x2=\"400.0\" y2=\"175.0\" stroke-linecap=\"round\" style=\"stroke:black;stroke-width:10\" /><line x1=\"400.0\" y1=\"175.0\" x2=\"350.0\" y2=\"175.0\" stroke-linecap=\"round\" style=\"stroke:black;stroke-width:10\" /><line x1=\"350.0\" y1=\"175.0\" x2=\"350.0\" y2=\"200.0\" stroke-linecap=\"round\" style=\"stroke:black;stroke-width:10\" /><line x1=\"350.0\" y1=\"200.0\" x2=\"400.0\" y2=\"200.0\" stroke-linecap=\"round\" style=\"stroke:black;stroke-width:10\" />\n",
              "        \n",
              "        \n",
              "        <g id=\"classic\" visibility=\"hidden\" transform=\"rotate(-90,350.0,150.0) translate(350.0, 150.0)\">\n",
              "<polygon points=\"-5,-4.5 0,-2.5 5,-4.5 0,4.5\" transform=\"skewX(0) scale(1,1)\" style=\"stroke:black;fill:black;stroke-width:1\" />\n",
              "</g><g id=\"classic\" visibility=\"visible\" transform=\"rotate(270.0,407.4278135315054,181.4304661840642) translate(407.4278135315054, 181.4304661840642)\">\n",
              "<polygon points=\"-5,-4.5 0,-2.5 5,-4.5 0,4.5\" transform=\"skewX(0) scale(1,1)\" style=\"stroke:black;fill:black;stroke-width:1\" />\n",
              "</g>\n",
              "      </svg>\n",
              "    "
            ]
          },
          "metadata": {}
        }
      ]
    }
  ]
}