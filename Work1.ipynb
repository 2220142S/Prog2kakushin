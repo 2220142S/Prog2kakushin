{
  "nbformat": 4,
  "nbformat_minor": 0,
  "metadata": {
    "colab": {
      "provenance": [],
      "authorship_tag": "ABX9TyN3WmjO+BF/3N0r/UnuCWzg",
      "include_colab_link": true
    },
    "kernelspec": {
      "name": "python3",
      "display_name": "Python 3"
    },
    "language_info": {
      "name": "python"
    }
  },
  "cells": [
    {
      "cell_type": "markdown",
      "metadata": {
        "id": "view-in-github",
        "colab_type": "text"
      },
      "source": [
        "<a href=\"https://colab.research.google.com/github/2220142S/Prog2kakushin/blob/main/Work1.ipynb\" target=\"_parent\"><img src=\"https://colab.research.google.com/assets/colab-badge.svg\" alt=\"Open In Colab\"/></a>"
      ]
    },
    {
      "cell_type": "markdown",
      "source": [
        "Excelで打ち込んだ希望シフトから,シフトを組む.\n",
        "但し下記の条件を満たすこととする.\n",
        "\n",
        "・全員の出勤回数ができるだけ同じであるとする\n",
        "\n",
        "・1日に最低3人は必要であるとする\n",
        "\n",
        "・最終的にシフトを共有したいので,別のExcelファイルを決定シフトとして作成する"
      ],
      "metadata": {
        "id": "8lhgtSn7zRfG"
      }
    },
    {
      "cell_type": "code",
      "source": [
        "!wget \"https://docs.google.com/spreadsheets/d/e/2PACX-1vQAnWeE5HYxNOKbSQIAFTDag8-sFXHGfxw4P6CUKCCZUmygC5QL8i7N4X8eaRUgCIzoS7BaqOnOLFoh/pub?gid=529748042&single=true&output=csv\" -O '希望シフト.csv'"
      ],
      "metadata": {
        "colab": {
          "base_uri": "https://localhost:8080/"
        },
        "id": "e7gWPCVaEaNV",
        "outputId": "0d9f65c9-6439-45de-e815-44cb197940df"
      },
      "execution_count": 53,
      "outputs": [
        {
          "output_type": "stream",
          "name": "stdout",
          "text": [
            "--2022-12-25 13:04:54--  https://docs.google.com/spreadsheets/d/e/2PACX-1vQAnWeE5HYxNOKbSQIAFTDag8-sFXHGfxw4P6CUKCCZUmygC5QL8i7N4X8eaRUgCIzoS7BaqOnOLFoh/pub?gid=529748042&single=true&output=csv\n",
            "Resolving docs.google.com (docs.google.com)... 172.253.63.101, 172.253.63.102, 172.253.63.139, ...\n",
            "Connecting to docs.google.com (docs.google.com)|172.253.63.101|:443... connected.\n",
            "HTTP request sent, awaiting response... 307 Temporary Redirect\n",
            "Location: https://doc-0g-14-sheets.googleusercontent.com/pub/8hg3b1ek8ops3o87ml9dh1hpus/oipsi5gkcongke8clgdte9ej1k/1671973490000/117246066510429816848/*/e@2PACX-1vQAnWeE5HYxNOKbSQIAFTDag8-sFXHGfxw4P6CUKCCZUmygC5QL8i7N4X8eaRUgCIzoS7BaqOnOLFoh?gid=529748042&single=true&output=csv [following]\n",
            "Warning: wildcards not supported in HTTP.\n",
            "--2022-12-25 13:04:54--  https://doc-0g-14-sheets.googleusercontent.com/pub/8hg3b1ek8ops3o87ml9dh1hpus/oipsi5gkcongke8clgdte9ej1k/1671973490000/117246066510429816848/*/e@2PACX-1vQAnWeE5HYxNOKbSQIAFTDag8-sFXHGfxw4P6CUKCCZUmygC5QL8i7N4X8eaRUgCIzoS7BaqOnOLFoh?gid=529748042&single=true&output=csv\n",
            "Resolving doc-0g-14-sheets.googleusercontent.com (doc-0g-14-sheets.googleusercontent.com)... 142.251.167.132, 2607:f8b0:4004:c1d::84\n",
            "Connecting to doc-0g-14-sheets.googleusercontent.com (doc-0g-14-sheets.googleusercontent.com)|142.251.167.132|:443... connected.\n",
            "HTTP request sent, awaiting response... 200 OK\n",
            "Length: unspecified [text/csv]\n",
            "Saving to: ‘希望シフト.csv’\n",
            "\n",
            "希望シフト.csv          [ <=>                ]     231  --.-KB/s    in 0s      \n",
            "\n",
            "2022-12-25 13:04:54 (14.5 MB/s) - ‘希望シフト.csv’ saved [231]\n",
            "\n"
          ]
        }
      ]
    },
    {
      "cell_type": "code",
      "source": [
        "def countfun():\n",
        "  countmin=[]\n",
        "  for i in range(0,len(df)):#それぞれの出勤回数を求める\n",
        "   a=0\n",
        "   c=0\n",
        "   df3=dfclt1.iloc[i]\n",
        "   for s in range(1,len(dfclt1.columns)):\n",
        "    if df3[s]=='〇':\n",
        "      a=a+1\n",
        "   countmin.append(a)\n",
        "  return countmin\n"
      ],
      "metadata": {
        "id": "HcjA8EBcKPJJ"
      },
      "execution_count": 71,
      "outputs": []
    },
    {
      "cell_type": "code",
      "source": [
        "import pandas as pd\n",
        "df=pd.read_csv('希望シフト.csv')\n",
        "count=[]\n",
        "dayc=[]\n",
        "syukkin=[]\n",
        "countmin=[]\n",
        "minindex=[]\n",
        "dfclt=pd.DataFrame()\n",
        "for i in range(0,len(df)):#それぞれの希望日数を数える\n",
        "  a=0\n",
        "  c=0\n",
        "  df2=df.iloc[i]\n",
        "  for s in range(len(df.columns)):\n",
        "    if df2[s]=='〇':\n",
        "      a=a+1\n",
        "  count.append(a)\n",
        "for s in range(1,len(df.columns)):#各日の希望している人数を数える\n",
        "  c=0\n",
        "  for i in range(0,len(df)):\n",
        "    if df.iloc[i][s]=='〇':\n",
        "      c+=1\n",
        "  dayc.append(c)\n",
        "print(count,dayc)"
      ],
      "metadata": {
        "id": "LqAgwjPJ2ezH",
        "colab": {
          "base_uri": "https://localhost:8080/"
        },
        "outputId": "3911db3e-6998-4c8d-89f9-ac3a3e9a683d"
      },
      "execution_count": 72,
      "outputs": [
        {
          "output_type": "stream",
          "name": "stdout",
          "text": [
            "[10, 5, 6, 5, 7] [5, 3, 3, 3, 3, 4, 3, 3, 3, 3]\n"
          ]
        }
      ]
    },
    {
      "cell_type": "code",
      "source": [
        "if min(dayc)<3:#条件の「1日に最低3人は必要である」より,3人に満たない日を確認する\n",
        "  x=dayc.index(min(dayc))+1\n",
        "  print(f'{x}日は{3-min(dayc)}人足りません.')\n",
        "for i in range(len(dayc)):#条件より,3人しかいない日は出勤者をそのまま確定する\n",
        " if dayc[i]==3:\n",
        "   dfclt[f'{i+1}']=df[f'{i+1}']\n",
        "   minindex.append(i+1)#確定した日をリストに入れる\n",
        "for i in range(0,len(df)):#確定した日からそれぞれの出勤回数を求める\n",
        "  a=0\n",
        "  c=0\n",
        "  df3=dfclt.iloc[i]\n",
        "  for s in range(len(dfclt.columns)):\n",
        "    if df3[s]=='〇':\n",
        "      a=a+1\n",
        "  countmin.append(a)  \n",
        "print(countmin,minindex)"
      ],
      "metadata": {
        "colab": {
          "base_uri": "https://localhost:8080/"
        },
        "id": "xpfgwqoNvcUL",
        "outputId": "eb7d034e-b9e3-485b-9286-ccea3641f8dc"
      },
      "execution_count": 73,
      "outputs": [
        {
          "output_type": "stream",
          "name": "stdout",
          "text": [
            "[8, 3, 4, 4, 5] [2, 3, 4, 5, 7, 8, 9, 10]\n"
          ]
        }
      ]
    },
    {
      "cell_type": "code",
      "source": [
        "dfclt1=pd.DataFrame()\n",
        "dfclt1=df\n",
        "for i in range(1,len(df.columns)):\n",
        " if i in minindex:#確定した日は飛ばす\n",
        "   continue\n",
        " else:\n",
        "   countmin=countfun()\n",
        "   daycount=4\n",
        "   while daycount>3:\n",
        "      a=countmin.index(max(countmin))#一番出勤した人を取り上げる\n",
        "      df4=df.iloc[a]\n",
        "      if df4[i]=='〇':#一番出勤した人の○を×に変える\n",
        "        dfclt1.iat[a,i]='×'\n",
        "      daycount=0\n",
        "      for s in range(0,len(df)):#一番多い人を×に変えて,iの日が何人いるか調べる\n",
        "          if dfclt1.iloc[s][i]=='〇':\n",
        "            daycount+=1     \n",
        "      countmin[a]=0 #一番多かった人の出勤回数を０回にすることで,３人より多い時でも次に出勤回数が多い人が×になる\n",
        "dfclt1"
      ],
      "metadata": {
        "id": "gzIC-UMMJ1t1",
        "colab": {
          "base_uri": "https://localhost:8080/",
          "height": 206
        },
        "outputId": "915e8648-fd04-4256-eeae-a799a98c58a1"
      },
      "execution_count": 74,
      "outputs": [
        {
          "output_type": "execute_result",
          "data": {
            "text/plain": [
              "  従業員名  1  2  3  4  5  6  7  8  9 10\n",
              "0    A  ×  〇  〇  〇  〇  ×  〇  〇  〇  〇\n",
              "1    B  〇  ×  〇  〇  〇  〇  ×  ×  ×  ×\n",
              "2    C  〇  〇  ×  〇  ×  〇  ×  〇  ×  〇\n",
              "3    D  〇  ×  〇  ×  〇  ×  〇  ×  〇  ×\n",
              "4    E  ×  〇  ×  ×  ×  〇  〇  〇  〇  〇"
            ],
            "text/html": [
              "\n",
              "  <div id=\"df-256770a3-59ee-43ef-b2cf-eeb9fd485f41\">\n",
              "    <div class=\"colab-df-container\">\n",
              "      <div>\n",
              "<style scoped>\n",
              "    .dataframe tbody tr th:only-of-type {\n",
              "        vertical-align: middle;\n",
              "    }\n",
              "\n",
              "    .dataframe tbody tr th {\n",
              "        vertical-align: top;\n",
              "    }\n",
              "\n",
              "    .dataframe thead th {\n",
              "        text-align: right;\n",
              "    }\n",
              "</style>\n",
              "<table border=\"1\" class=\"dataframe\">\n",
              "  <thead>\n",
              "    <tr style=\"text-align: right;\">\n",
              "      <th></th>\n",
              "      <th>従業員名</th>\n",
              "      <th>1</th>\n",
              "      <th>2</th>\n",
              "      <th>3</th>\n",
              "      <th>4</th>\n",
              "      <th>5</th>\n",
              "      <th>6</th>\n",
              "      <th>7</th>\n",
              "      <th>8</th>\n",
              "      <th>9</th>\n",
              "      <th>10</th>\n",
              "    </tr>\n",
              "  </thead>\n",
              "  <tbody>\n",
              "    <tr>\n",
              "      <th>0</th>\n",
              "      <td>A</td>\n",
              "      <td>×</td>\n",
              "      <td>〇</td>\n",
              "      <td>〇</td>\n",
              "      <td>〇</td>\n",
              "      <td>〇</td>\n",
              "      <td>×</td>\n",
              "      <td>〇</td>\n",
              "      <td>〇</td>\n",
              "      <td>〇</td>\n",
              "      <td>〇</td>\n",
              "    </tr>\n",
              "    <tr>\n",
              "      <th>1</th>\n",
              "      <td>B</td>\n",
              "      <td>〇</td>\n",
              "      <td>×</td>\n",
              "      <td>〇</td>\n",
              "      <td>〇</td>\n",
              "      <td>〇</td>\n",
              "      <td>〇</td>\n",
              "      <td>×</td>\n",
              "      <td>×</td>\n",
              "      <td>×</td>\n",
              "      <td>×</td>\n",
              "    </tr>\n",
              "    <tr>\n",
              "      <th>2</th>\n",
              "      <td>C</td>\n",
              "      <td>〇</td>\n",
              "      <td>〇</td>\n",
              "      <td>×</td>\n",
              "      <td>〇</td>\n",
              "      <td>×</td>\n",
              "      <td>〇</td>\n",
              "      <td>×</td>\n",
              "      <td>〇</td>\n",
              "      <td>×</td>\n",
              "      <td>〇</td>\n",
              "    </tr>\n",
              "    <tr>\n",
              "      <th>3</th>\n",
              "      <td>D</td>\n",
              "      <td>〇</td>\n",
              "      <td>×</td>\n",
              "      <td>〇</td>\n",
              "      <td>×</td>\n",
              "      <td>〇</td>\n",
              "      <td>×</td>\n",
              "      <td>〇</td>\n",
              "      <td>×</td>\n",
              "      <td>〇</td>\n",
              "      <td>×</td>\n",
              "    </tr>\n",
              "    <tr>\n",
              "      <th>4</th>\n",
              "      <td>E</td>\n",
              "      <td>×</td>\n",
              "      <td>〇</td>\n",
              "      <td>×</td>\n",
              "      <td>×</td>\n",
              "      <td>×</td>\n",
              "      <td>〇</td>\n",
              "      <td>〇</td>\n",
              "      <td>〇</td>\n",
              "      <td>〇</td>\n",
              "      <td>〇</td>\n",
              "    </tr>\n",
              "  </tbody>\n",
              "</table>\n",
              "</div>\n",
              "      <button class=\"colab-df-convert\" onclick=\"convertToInteractive('df-256770a3-59ee-43ef-b2cf-eeb9fd485f41')\"\n",
              "              title=\"Convert this dataframe to an interactive table.\"\n",
              "              style=\"display:none;\">\n",
              "        \n",
              "  <svg xmlns=\"http://www.w3.org/2000/svg\" height=\"24px\"viewBox=\"0 0 24 24\"\n",
              "       width=\"24px\">\n",
              "    <path d=\"M0 0h24v24H0V0z\" fill=\"none\"/>\n",
              "    <path d=\"M18.56 5.44l.94 2.06.94-2.06 2.06-.94-2.06-.94-.94-2.06-.94 2.06-2.06.94zm-11 1L8.5 8.5l.94-2.06 2.06-.94-2.06-.94L8.5 2.5l-.94 2.06-2.06.94zm10 10l.94 2.06.94-2.06 2.06-.94-2.06-.94-.94-2.06-.94 2.06-2.06.94z\"/><path d=\"M17.41 7.96l-1.37-1.37c-.4-.4-.92-.59-1.43-.59-.52 0-1.04.2-1.43.59L10.3 9.45l-7.72 7.72c-.78.78-.78 2.05 0 2.83L4 21.41c.39.39.9.59 1.41.59.51 0 1.02-.2 1.41-.59l7.78-7.78 2.81-2.81c.8-.78.8-2.07 0-2.86zM5.41 20L4 18.59l7.72-7.72 1.47 1.35L5.41 20z\"/>\n",
              "  </svg>\n",
              "      </button>\n",
              "      \n",
              "  <style>\n",
              "    .colab-df-container {\n",
              "      display:flex;\n",
              "      flex-wrap:wrap;\n",
              "      gap: 12px;\n",
              "    }\n",
              "\n",
              "    .colab-df-convert {\n",
              "      background-color: #E8F0FE;\n",
              "      border: none;\n",
              "      border-radius: 50%;\n",
              "      cursor: pointer;\n",
              "      display: none;\n",
              "      fill: #1967D2;\n",
              "      height: 32px;\n",
              "      padding: 0 0 0 0;\n",
              "      width: 32px;\n",
              "    }\n",
              "\n",
              "    .colab-df-convert:hover {\n",
              "      background-color: #E2EBFA;\n",
              "      box-shadow: 0px 1px 2px rgba(60, 64, 67, 0.3), 0px 1px 3px 1px rgba(60, 64, 67, 0.15);\n",
              "      fill: #174EA6;\n",
              "    }\n",
              "\n",
              "    [theme=dark] .colab-df-convert {\n",
              "      background-color: #3B4455;\n",
              "      fill: #D2E3FC;\n",
              "    }\n",
              "\n",
              "    [theme=dark] .colab-df-convert:hover {\n",
              "      background-color: #434B5C;\n",
              "      box-shadow: 0px 1px 3px 1px rgba(0, 0, 0, 0.15);\n",
              "      filter: drop-shadow(0px 1px 2px rgba(0, 0, 0, 0.3));\n",
              "      fill: #FFFFFF;\n",
              "    }\n",
              "  </style>\n",
              "\n",
              "      <script>\n",
              "        const buttonEl =\n",
              "          document.querySelector('#df-256770a3-59ee-43ef-b2cf-eeb9fd485f41 button.colab-df-convert');\n",
              "        buttonEl.style.display =\n",
              "          google.colab.kernel.accessAllowed ? 'block' : 'none';\n",
              "\n",
              "        async function convertToInteractive(key) {\n",
              "          const element = document.querySelector('#df-256770a3-59ee-43ef-b2cf-eeb9fd485f41');\n",
              "          const dataTable =\n",
              "            await google.colab.kernel.invokeFunction('convertToInteractive',\n",
              "                                                     [key], {});\n",
              "          if (!dataTable) return;\n",
              "\n",
              "          const docLinkHtml = 'Like what you see? Visit the ' +\n",
              "            '<a target=\"_blank\" href=https://colab.research.google.com/notebooks/data_table.ipynb>data table notebook</a>'\n",
              "            + ' to learn more about interactive tables.';\n",
              "          element.innerHTML = '';\n",
              "          dataTable['output_type'] = 'display_data';\n",
              "          await google.colab.output.renderOutput(dataTable, element);\n",
              "          const docLink = document.createElement('div');\n",
              "          docLink.innerHTML = docLinkHtml;\n",
              "          element.appendChild(docLink);\n",
              "        }\n",
              "      </script>\n",
              "    </div>\n",
              "  </div>\n",
              "  "
            ]
          },
          "metadata": {},
          "execution_count": 74
        }
      ]
    },
    {
      "cell_type": "code",
      "source": [
        "dfclt1.to_csv('確定シフト.csv')#csvファイルに出力する"
      ],
      "metadata": {
        "id": "K_EuidM9vnhY"
      },
      "execution_count": 75,
      "outputs": []
    }
  ]
}