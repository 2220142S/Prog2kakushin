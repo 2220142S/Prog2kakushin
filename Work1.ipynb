{
  "nbformat": 4,
  "nbformat_minor": 0,
  "metadata": {
    "colab": {
      "provenance": [],
      "authorship_tag": "ABX9TyP3C5P47Te88RxMHpFPqMit",
      "include_colab_link": true
    },
    "kernelspec": {
      "name": "python3",
      "display_name": "Python 3"
    },
    "language_info": {
      "name": "python"
    }
  },
  "cells": [
    {
      "cell_type": "markdown",
      "metadata": {
        "id": "view-in-github",
        "colab_type": "text"
      },
      "source": [
        "<a href=\"https://colab.research.google.com/github/2220142S/Prog2kakushin/blob/main/Work1.ipynb\" target=\"_parent\"><img src=\"https://colab.research.google.com/assets/colab-badge.svg\" alt=\"Open In Colab\"/></a>"
      ]
    },
    {
      "cell_type": "markdown",
      "source": [
        "Excelで打ち込んだ希望シフトから,1週間のシフトを組む.\n",
        "但し下記の条件を満たすこととする.\n",
        "\n",
        "・全員の出勤回数がほとんど同じであるとする\n",
        "\n",
        "・最低1日に3人は必要であるとする\n",
        "\n",
        "・最終的にシフトを共有したいので,別のExcelファイルを決定シフトとして作成する"
      ],
      "metadata": {
        "id": "8lhgtSn7zRfG"
      }
    },
    {
      "cell_type": "code",
      "source": [],
      "metadata": {
        "id": "LqAgwjPJ2ezH"
      },
      "execution_count": null,
      "outputs": []
    }
  ]
}