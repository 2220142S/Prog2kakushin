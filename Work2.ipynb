{
  "nbformat": 4,
  "nbformat_minor": 0,
  "metadata": {
    "colab": {
      "provenance": [],
      "toc_visible": true,
      "authorship_tag": "ABX9TyNdrwHpMHEd/Ahq6cNvS4YK",
      "include_colab_link": true
    },
    "kernelspec": {
      "name": "python3",
      "display_name": "Python 3"
    },
    "language_info": {
      "name": "python"
    }
  },
  "cells": [
    {
      "cell_type": "markdown",
      "metadata": {
        "id": "view-in-github",
        "colab_type": "text"
      },
      "source": [
        "<a href=\"https://colab.research.google.com/github/2220142S/Prog2kakushin/blob/main/Work2.ipynb\" target=\"_parent\"><img src=\"https://colab.research.google.com/assets/colab-badge.svg\" alt=\"Open In Colab\"/></a>"
      ]
    },
    {
      "cell_type": "markdown",
      "source": [
        "#行列の値を求めるプログラミングを作る"
      ],
      "metadata": {
        "id": "ha3hDeIl9rsJ"
      }
    },
    {
      "cell_type": "code",
      "source": [
        "def sarasu_(a_,x):#サラスの方法を関数とする\n",
        "  sum=0\n",
        "  a_=np.vstack((a_, a_[0])) #最初の二行を後ろにつける\n",
        "  a_=np.vstack((a_,a_[1]))\n",
        "  for i in range(3):\n",
        "    sum+=a_[i,0]*a_[i+1,1]*a_[i+2,2] #プラスの方だけ計算する\n",
        "    sum-=a_[i,2]*a_[i+1,1]*a_[i+2,0] #マイナスの方だけ計算する\n",
        "  sum=sum*A[x,0]*(-1)**x #余因子分解で出てきた数と、マイナスをかける\n",
        "  return sum"
      ],
      "metadata": {
        "id": "a6BX6nKrB-fk"
      },
      "execution_count": 260,
      "outputs": []
    },
    {
      "cell_type": "code",
      "source": [
        "import numpy as np\n",
        "A=np.array([[2,1,5,3],[3,0,1,6],[1,4,3,3],[8,2,0,1]]) #行列を入力\n",
        "b=A.shape[0] #行数の取得\n",
        "c=A.shape[1] #列数の取得 \n",
        "x=0\n",
        "def yoinshi(B,x): #余因子分解の行列部分だけを関数とする\n",
        "  B=np.delete(A,x,0) #ｘ行目を消す\n",
        "  B=np.delete(B,0,1) #一列目を消す\n",
        "  return B\n",
        "for i in range(0,b): #行数分繰り返す\n",
        "  b=A.shape[0] #求めたい行列の行数の取得\n",
        "  c=A.shape[1] #求めたい行列の列数の取得 \n",
        "  while  b>3 or c>3:   #行列の値を求めるサラスの公式が使用できるのは三次元以下からであるため、行列を三次元以下に余因子分解する.   \n",
        "    a_del1=yoinshi(a_del1,i) \n",
        "    b=a_del1.shape[0] #余因子分解が終わった行列の行数と列数の取得\n",
        "    c=a_del1.shape[1]  \n",
        "  x+=sarasu_(a_del1,i) #それぞれの行の余因子分解した者達を足し合わせる\n",
        "print(x)"
      ],
      "metadata": {
        "colab": {
          "base_uri": "https://localhost:8080/"
        },
        "id": "4ZAlxmOj8Jtk",
        "outputId": "8e2a0f69-0267-47f0-a528-ebda4e9181e7"
      },
      "execution_count": 262,
      "outputs": [
        {
          "output_type": "stream",
          "name": "stdout",
          "text": [
            "-742\n"
          ]
        }
      ]
    }
  ]
}